{
 "cells": [
  {
   "cell_type": "code",
   "execution_count": 16,
   "metadata": {},
   "outputs": [],
   "source": [
    "# https://www.analyticsvidhya.com/blog/2019/09/step-by-step-deep-learning-tutorial-video-classification-python/\n",
    "# Copy video data from https://www.crcv.ucf.edu/data/UCF101/UCF101.rar\n",
    "# Expand in test/data get folder UCF-101 which many videos.\n",
    "\n",
    "import cv2     # for capturing videos\n",
    "import math   # for mathematical operations\n",
    "import matplotlib.pyplot as plt    # for plotting the images\n",
    "%matplotlib inline\n",
    "import pandas as pd\n",
    "from keras.preprocessing import image   # for preprocessing the images\n",
    "import numpy as np    # for mathematical operations\n",
    "from keras.utils import np_utils\n",
    "from skimage.transform import resize   # for resizing images\n",
    "from sklearn.model_selection import train_test_split\n",
    "from glob import glob\n",
    "from tqdm import tqdm"
   ]
  },
  {
   "cell_type": "code",
   "execution_count": 17,
   "metadata": {},
   "outputs": [
    {
     "data": {
      "text/html": [
       "<div>\n",
       "<style scoped>\n",
       "    .dataframe tbody tr th:only-of-type {\n",
       "        vertical-align: middle;\n",
       "    }\n",
       "\n",
       "    .dataframe tbody tr th {\n",
       "        vertical-align: top;\n",
       "    }\n",
       "\n",
       "    .dataframe thead th {\n",
       "        text-align: right;\n",
       "    }\n",
       "</style>\n",
       "<table border=\"1\" class=\"dataframe\">\n",
       "  <thead>\n",
       "    <tr style=\"text-align: right;\">\n",
       "      <th></th>\n",
       "      <th>video_name</th>\n",
       "    </tr>\n",
       "  </thead>\n",
       "  <tbody>\n",
       "    <tr>\n",
       "      <th>0</th>\n",
       "      <td>ApplyEyeMakeup/v_ApplyEyeMakeup_g01_c01.avi</td>\n",
       "    </tr>\n",
       "    <tr>\n",
       "      <th>1</th>\n",
       "      <td>ApplyEyeMakeup/v_ApplyEyeMakeup_g01_c02.avi</td>\n",
       "    </tr>\n",
       "    <tr>\n",
       "      <th>2</th>\n",
       "      <td>ApplyEyeMakeup/v_ApplyEyeMakeup_g01_c03.avi</td>\n",
       "    </tr>\n",
       "    <tr>\n",
       "      <th>3</th>\n",
       "      <td>ApplyEyeMakeup/v_ApplyEyeMakeup_g01_c04.avi</td>\n",
       "    </tr>\n",
       "    <tr>\n",
       "      <th>4</th>\n",
       "      <td>ApplyEyeMakeup/v_ApplyEyeMakeup_g01_c05.avi</td>\n",
       "    </tr>\n",
       "  </tbody>\n",
       "</table>\n",
       "</div>"
      ],
      "text/plain": [
       "                                    video_name\n",
       "0  ApplyEyeMakeup/v_ApplyEyeMakeup_g01_c01.avi\n",
       "1  ApplyEyeMakeup/v_ApplyEyeMakeup_g01_c02.avi\n",
       "2  ApplyEyeMakeup/v_ApplyEyeMakeup_g01_c03.avi\n",
       "3  ApplyEyeMakeup/v_ApplyEyeMakeup_g01_c04.avi\n",
       "4  ApplyEyeMakeup/v_ApplyEyeMakeup_g01_c05.avi"
      ]
     },
     "execution_count": 17,
     "metadata": {},
     "output_type": "execute_result"
    }
   ],
   "source": [
    "f = open(\"test/data/ucfTrainTestlist/testlist01.txt\", \"r\")\n",
    "temp = f.read()\n",
    "videos = temp.split('\\n')\n",
    "train = pd.DataFrame()\n",
    "train['video_name'] = videos\n",
    "train = train[:-1]\n",
    "train.head()"
   ]
  },
  {
   "cell_type": "code",
   "execution_count": 18,
   "metadata": {},
   "outputs": [
    {
     "data": {
      "text/html": [
       "<div>\n",
       "<style scoped>\n",
       "    .dataframe tbody tr th:only-of-type {\n",
       "        vertical-align: middle;\n",
       "    }\n",
       "\n",
       "    .dataframe tbody tr th {\n",
       "        vertical-align: top;\n",
       "    }\n",
       "\n",
       "    .dataframe thead th {\n",
       "        text-align: right;\n",
       "    }\n",
       "</style>\n",
       "<table border=\"1\" class=\"dataframe\">\n",
       "  <thead>\n",
       "    <tr style=\"text-align: right;\">\n",
       "      <th></th>\n",
       "      <th>video_name</th>\n",
       "      <th>tag</th>\n",
       "    </tr>\n",
       "  </thead>\n",
       "  <tbody>\n",
       "    <tr>\n",
       "      <th>0</th>\n",
       "      <td>ApplyEyeMakeup/v_ApplyEyeMakeup_g01_c01.avi</td>\n",
       "      <td>ApplyEyeMakeup</td>\n",
       "    </tr>\n",
       "    <tr>\n",
       "      <th>1</th>\n",
       "      <td>ApplyEyeMakeup/v_ApplyEyeMakeup_g01_c02.avi</td>\n",
       "      <td>ApplyEyeMakeup</td>\n",
       "    </tr>\n",
       "    <tr>\n",
       "      <th>2</th>\n",
       "      <td>ApplyEyeMakeup/v_ApplyEyeMakeup_g01_c03.avi</td>\n",
       "      <td>ApplyEyeMakeup</td>\n",
       "    </tr>\n",
       "    <tr>\n",
       "      <th>3</th>\n",
       "      <td>ApplyEyeMakeup/v_ApplyEyeMakeup_g01_c04.avi</td>\n",
       "      <td>ApplyEyeMakeup</td>\n",
       "    </tr>\n",
       "    <tr>\n",
       "      <th>4</th>\n",
       "      <td>ApplyEyeMakeup/v_ApplyEyeMakeup_g01_c05.avi</td>\n",
       "      <td>ApplyEyeMakeup</td>\n",
       "    </tr>\n",
       "  </tbody>\n",
       "</table>\n",
       "</div>"
      ],
      "text/plain": [
       "                                    video_name             tag\n",
       "0  ApplyEyeMakeup/v_ApplyEyeMakeup_g01_c01.avi  ApplyEyeMakeup\n",
       "1  ApplyEyeMakeup/v_ApplyEyeMakeup_g01_c02.avi  ApplyEyeMakeup\n",
       "2  ApplyEyeMakeup/v_ApplyEyeMakeup_g01_c03.avi  ApplyEyeMakeup\n",
       "3  ApplyEyeMakeup/v_ApplyEyeMakeup_g01_c04.avi  ApplyEyeMakeup\n",
       "4  ApplyEyeMakeup/v_ApplyEyeMakeup_g01_c05.avi  ApplyEyeMakeup"
      ]
     },
     "execution_count": 18,
     "metadata": {},
     "output_type": "execute_result"
    }
   ],
   "source": [
    "train_video_tag = []\n",
    "for i in range(train.shape[0]):\n",
    "    train_video_tag.append(train['video_name'][i].split('/')[0])\n",
    "    \n",
    "train['tag'] = train_video_tag\n",
    "train.head()"
   ]
  },
  {
   "cell_type": "code",
   "execution_count": 22,
   "metadata": {},
   "outputs": [],
   "source": [
    "def expand(indir, train, outdir):\n",
    "    \n",
    "    import os\n",
    "    os.makedirs(outdir, exist_ok=True)\n",
    "\n",
    "    print(\"Loop over {}\".format(train.shape[0]))\n",
    "    for i in tqdm(range(train.shape[0])):\n",
    "        count = 0\n",
    "        videoFile = train['video_name'][i]\n",
    "        inpath = os.path.join(indir, videoFile)\n",
    "        if not os.path.isfile(inpath):\n",
    "            raise Exception(\"Path does not exist {}\".format(inpath))\n",
    "            \n",
    "        cap = cv2.VideoCapture(inpath)   # capturing the video from the given path\n",
    "        try:\n",
    "            frameRate = cap.get(5) #frame rate\n",
    "            x=1\n",
    "            while(cap.isOpened()):\n",
    "                frameId = cap.get(1) #current frame number\n",
    "                ret, frame = cap.read()\n",
    "                if (ret != True):\n",
    "                    break\n",
    "                if (frameId % math.floor(frameRate) == 0):\n",
    "                    # storing the frames in a new folder named train_1\n",
    "                    filename = videoFile.split('/')[1].split(' ')[0] +\"_frame%d.jpg\" % count;count+=1\n",
    "                    outpath = os.path.join(outdir, filename)\n",
    "                    if os.path.isfile(outpath):\n",
    "                        raise Exception(\"File {} already exists!\".format(outpath))\n",
    "                    cv2.imwrite(outpath, frame)\n",
    "                    if i % 1000 == 0:\n",
    "                        print(outpath)\n",
    "        finally:\n",
    "            cap.release()\n",
    "            "
   ]
  },
  {
   "cell_type": "code",
   "execution_count": 23,
   "metadata": {},
   "outputs": [
    {
     "name": "stderr",
     "output_type": "stream",
     "text": [
      "  0%|          | 2/3783 [00:00<03:23, 18.55it/s]"
     ]
    },
    {
     "name": "stdout",
     "output_type": "stream",
     "text": [
      "Loop over 3783\n",
      "scratch/train_01/v_ApplyEyeMakeup_g01_c01.avi_frame0.jpg\n",
      "scratch/train_01/v_ApplyEyeMakeup_g01_c01.avi_frame1.jpg\n",
      "scratch/train_01/v_ApplyEyeMakeup_g01_c01.avi_frame2.jpg\n",
      "scratch/train_01/v_ApplyEyeMakeup_g01_c01.avi_frame3.jpg\n",
      "scratch/train_01/v_ApplyEyeMakeup_g01_c01.avi_frame4.jpg\n",
      "scratch/train_01/v_ApplyEyeMakeup_g01_c01.avi_frame5.jpg\n",
      "scratch/train_01/v_ApplyEyeMakeup_g01_c01.avi_frame6.jpg\n"
     ]
    },
    {
     "name": "stderr",
     "output_type": "stream",
     "text": [
      " 26%|██▋       | 1001/3783 [00:42<02:17, 20.25it/s]"
     ]
    },
    {
     "name": "stdout",
     "output_type": "stream",
     "text": [
      "scratch/train_01/v_Drumming_g01_c05.avi_frame0.jpg\n",
      "scratch/train_01/v_Drumming_g01_c05.avi_frame1.jpg\n",
      "scratch/train_01/v_Drumming_g01_c05.avi_frame2.jpg\n",
      "scratch/train_01/v_Drumming_g01_c05.avi_frame3.jpg\n",
      "scratch/train_01/v_Drumming_g01_c05.avi_frame4.jpg\n",
      "scratch/train_01/v_Drumming_g01_c05.avi_frame5.jpg\n",
      "scratch/train_01/v_Drumming_g01_c05.avi_frame6.jpg\n",
      "scratch/train_01/v_Drumming_g01_c05.avi_frame7.jpg\n",
      "scratch/train_01/v_Drumming_g01_c05.avi_frame8.jpg\n",
      "scratch/train_01/v_Drumming_g01_c05.avi_frame9.jpg\n",
      "scratch/train_01/v_Drumming_g01_c05.avi_frame10.jpg\n",
      "scratch/train_01/v_Drumming_g01_c05.avi_frame11.jpg\n"
     ]
    },
    {
     "name": "stderr",
     "output_type": "stream",
     "text": [
      " 53%|█████▎    | 2002/3783 [01:22<01:00, 29.44it/s]"
     ]
    },
    {
     "name": "stdout",
     "output_type": "stream",
     "text": [
      "scratch/train_01/v_MilitaryParade_g07_c03.avi_frame0.jpg\n",
      "scratch/train_01/v_MilitaryParade_g07_c03.avi_frame1.jpg\n",
      "scratch/train_01/v_MilitaryParade_g07_c03.avi_frame2.jpg\n",
      "scratch/train_01/v_MilitaryParade_g07_c03.avi_frame3.jpg\n",
      "scratch/train_01/v_MilitaryParade_g07_c03.avi_frame4.jpg\n",
      "scratch/train_01/v_MilitaryParade_g07_c03.avi_frame5.jpg\n"
     ]
    },
    {
     "name": "stderr",
     "output_type": "stream",
     "text": [
      " 79%|███████▉  | 3004/3783 [02:14<00:26, 29.29it/s]"
     ]
    },
    {
     "name": "stdout",
     "output_type": "stream",
     "text": [
      "scratch/train_01/v_SkateBoarding_g03_c04.avi_frame0.jpg\n",
      "scratch/train_01/v_SkateBoarding_g03_c04.avi_frame1.jpg\n",
      "scratch/train_01/v_SkateBoarding_g03_c04.avi_frame2.jpg\n",
      "scratch/train_01/v_SkateBoarding_g03_c04.avi_frame3.jpg\n",
      "scratch/train_01/v_SkateBoarding_g03_c04.avi_frame4.jpg\n",
      "scratch/train_01/v_SkateBoarding_g03_c04.avi_frame5.jpg\n"
     ]
    },
    {
     "name": "stderr",
     "output_type": "stream",
     "text": [
      "100%|██████████| 3783/3783 [02:48<00:00, 22.50it/s]\n"
     ]
    }
   ],
   "source": [
    "expand(\"test/data/UCF-101\", train, \"scratch/train_01\")"
   ]
  },
  {
   "cell_type": "code",
   "execution_count": 24,
   "metadata": {},
   "outputs": [],
   "source": [
    "def save_frame(indir, pattern=\"*.jpg\", sort=False):\n",
    "    \n",
    "    import re\n",
    "    p = re.compile(\"v_([a-zA-Z]+)_(.*\\.avi_frame\\d+).jpg\")\n",
    "    \n",
    "    images = glob(\"scratch/train_01/\"+pattern)\n",
    "    train_image = []\n",
    "    train_class = []\n",
    "    for i in tqdm(range(len(images))):\n",
    "        \n",
    "        filename = os.path.basename(images[i])\n",
    "        m = p.match(filename)\n",
    "        \n",
    "        # creating the image name\n",
    "        train_image.append(m.group(1)+\"_\"+m.group(2))\n",
    "        \n",
    "        # creating the class of image\n",
    "        train_class.append(m.group(1))\n",
    "\n",
    "    # storing the images and their class in a dataframe\n",
    "    train_data = pd.DataFrame()\n",
    "    train_data['image'] = train_image\n",
    "    train_data['class'] = train_class\n",
    "\n",
    "    if sort:\n",
    "        train_data = train_data.sort_values(by=['image'])\n",
    "    \n",
    "    return train_data"
   ]
  },
  {
   "cell_type": "code",
   "execution_count": 27,
   "metadata": {},
   "outputs": [
    {
     "name": "stderr",
     "output_type": "stream",
     "text": [
      "100%|██████████| 28897/28897 [00:00<00:00, 54413.43it/s]\n"
     ]
    },
    {
     "data": {
      "text/html": [
       "<div>\n",
       "<style scoped>\n",
       "    .dataframe tbody tr th:only-of-type {\n",
       "        vertical-align: middle;\n",
       "    }\n",
       "\n",
       "    .dataframe tbody tr th {\n",
       "        vertical-align: top;\n",
       "    }\n",
       "\n",
       "    .dataframe thead th {\n",
       "        text-align: right;\n",
       "    }\n",
       "</style>\n",
       "<table border=\"1\" class=\"dataframe\">\n",
       "  <thead>\n",
       "    <tr style=\"text-align: right;\">\n",
       "      <th></th>\n",
       "      <th>image</th>\n",
       "      <th>class</th>\n",
       "    </tr>\n",
       "  </thead>\n",
       "  <tbody>\n",
       "    <tr>\n",
       "      <th>5007</th>\n",
       "      <td>ApplyEyeMakeup_g01_c01.avi_frame0</td>\n",
       "      <td>ApplyEyeMakeup</td>\n",
       "    </tr>\n",
       "    <tr>\n",
       "      <th>4263</th>\n",
       "      <td>ApplyEyeMakeup_g01_c01.avi_frame1</td>\n",
       "      <td>ApplyEyeMakeup</td>\n",
       "    </tr>\n",
       "    <tr>\n",
       "      <th>6063</th>\n",
       "      <td>ApplyEyeMakeup_g01_c01.avi_frame2</td>\n",
       "      <td>ApplyEyeMakeup</td>\n",
       "    </tr>\n",
       "    <tr>\n",
       "      <th>6879</th>\n",
       "      <td>ApplyEyeMakeup_g01_c01.avi_frame3</td>\n",
       "      <td>ApplyEyeMakeup</td>\n",
       "    </tr>\n",
       "    <tr>\n",
       "      <th>2353</th>\n",
       "      <td>ApplyEyeMakeup_g01_c01.avi_frame4</td>\n",
       "      <td>ApplyEyeMakeup</td>\n",
       "    </tr>\n",
       "  </tbody>\n",
       "</table>\n",
       "</div>"
      ],
      "text/plain": [
       "                                  image           class\n",
       "5007  ApplyEyeMakeup_g01_c01.avi_frame0  ApplyEyeMakeup\n",
       "4263  ApplyEyeMakeup_g01_c01.avi_frame1  ApplyEyeMakeup\n",
       "6063  ApplyEyeMakeup_g01_c01.avi_frame2  ApplyEyeMakeup\n",
       "6879  ApplyEyeMakeup_g01_c01.avi_frame3  ApplyEyeMakeup\n",
       "2353  ApplyEyeMakeup_g01_c01.avi_frame4  ApplyEyeMakeup"
      ]
     },
     "execution_count": 27,
     "metadata": {},
     "output_type": "execute_result"
    }
   ],
   "source": [
    "td = save_frame(\"scratch/train_01\", sort=True)\n",
    "\n",
    "# converting the dataframe into csv file \n",
    "td.to_csv('train_new.csv',header=True, index=False)\n",
    "\n",
    "td.head()"
   ]
  },
  {
   "cell_type": "code",
   "execution_count": 26,
   "metadata": {},
   "outputs": [
    {
     "name": "stdout",
     "output_type": "stream",
     "text": [
      "28897\n"
     ]
    }
   ],
   "source": [
    "import os\n",
    "print(len([name for name in os.listdir('scratch/train_01') if os.path.isfile('scratch/train_01/'+name)]))"
   ]
  },
  {
   "cell_type": "code",
   "execution_count": null,
   "metadata": {},
   "outputs": [],
   "source": []
  }
 ],
 "metadata": {
  "kernelspec": {
   "display_name": "Python 3",
   "language": "python",
   "name": "python3"
  },
  "language_info": {
   "codemirror_mode": {
    "name": "ipython",
    "version": 3
   },
   "file_extension": ".py",
   "mimetype": "text/x-python",
   "name": "python",
   "nbconvert_exporter": "python",
   "pygments_lexer": "ipython3",
   "version": "3.7.6"
  }
 },
 "nbformat": 4,
 "nbformat_minor": 4
}
