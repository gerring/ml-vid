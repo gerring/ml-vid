{
 "cells": [
  {
   "cell_type": "code",
   "execution_count": 6,
   "metadata": {},
   "outputs": [],
   "source": [
    "# Using data from https://www.pyimagesearch.com/2019/07/15/video-classification-with-keras-and-deep-learning/\n",
    "# We attempt to do the tutorial 1-3 on different data\n",
    "import keras\n",
    "from keras.models import Sequential\n",
    "from keras.applications.vgg16 import VGG16\n",
    "from keras.layers import Dense, InputLayer, Dropout, Flatten\n",
    "from keras.layers import Conv2D, MaxPooling2D, GlobalMaxPooling2D\n",
    "from keras.preprocessing import image\n",
    "import numpy as np\n",
    "import pandas as pd\n",
    "import matplotlib.pyplot as plt\n",
    "from tqdm import tqdm\n",
    "from sklearn.model_selection import train_test_split\n",
    "import os"
   ]
  },
  {
   "cell_type": "code",
   "execution_count": 7,
   "metadata": {},
   "outputs": [],
   "source": [
    "def get_labels(pardir='test/data/sports/data', sort=True):\n",
    "    \n",
    "    from os.path import isdir, basename, join, isfile\n",
    "    files = [f for f in os.listdir(pardir) if isdir(join(pardir, f))]\n",
    "\n",
    "    train_image = []\n",
    "    train_class = []\n",
    "\n",
    "    for idir in files:\n",
    "        clazz = basename(idir)\n",
    "        if clazz.startswith(\".\"):\n",
    "            continue\n",
    "        \n",
    "        images = os.listdir(pardir+\"/\"+clazz)\n",
    "        for i in tqdm(range(len(images))):\n",
    "            \n",
    "            image_name = images[i] \n",
    "            lc = image_name.lower()\n",
    "            if not lc.endswith(\".jpg\") and not lc.endswith(\".jpeg\") and not lc.endswith(\".png\"):\n",
    "                continue\n",
    "            \n",
    "            if isdir(join(pardir, clazz, image_name)):\n",
    "                continue\n",
    "                \n",
    "            if lc.endswith(\".ipynb_checkpoints\"):\n",
    "                continue\n",
    "            \n",
    "            train_image.append(clazz+\"/\"+image_name)\n",
    "            train_class.append(clazz)\n",
    "        \n",
    "    train_data = pd.DataFrame()\n",
    "    train_data['image'] = train_image\n",
    "    train_data['class'] = train_class\n",
    "\n",
    "    if sort:\n",
    "        train_data = train_data.sort_values(by=['class'])\n",
    "        \n",
    "    return train_data"
   ]
  },
  {
   "cell_type": "code",
   "execution_count": 8,
   "metadata": {},
   "outputs": [
    {
     "name": "stderr",
     "output_type": "stream",
     "text": [
      "100%|██████████| 719/719 [00:00<00:00, 104252.24it/s]\n",
      "100%|██████████| 611/611 [00:00<00:00, 104609.35it/s]\n",
      "100%|██████████| 799/799 [00:00<00:00, 73790.05it/s]\n",
      "100%|██████████| 715/715 [00:00<00:00, 92232.12it/s]\n",
      "100%|██████████| 746/746 [00:00<00:00, 112706.25it/s]\n",
      "100%|██████████| 715/715 [00:00<00:00, 110763.71it/s]\n",
      "100%|██████████| 671/671 [00:00<00:00, 104518.81it/s]\n",
      "100%|██████████| 6/6 [00:00<00:00, 28024.30it/s]\n",
      "100%|██████████| 495/495 [00:00<00:00, 42282.15it/s]\n",
      "100%|██████████| 713/713 [00:00<00:00, 108474.69it/s]\n",
      "100%|██████████| 713/713 [00:00<00:00, 105942.28it/s]\n",
      "100%|██████████| 679/679 [00:00<00:00, 114310.52it/s]\n",
      "100%|██████████| 635/635 [00:00<00:00, 110070.80it/s]\n",
      "100%|██████████| 572/572 [00:00<00:00, 107334.55it/s]\n",
      "100%|██████████| 689/689 [00:00<00:00, 112929.87it/s]\n",
      "100%|██████████| 481/481 [00:00<00:00, 100561.27it/s]\n",
      "100%|██████████| 718/718 [00:00<00:00, 111216.13it/s]\n",
      "100%|██████████| 938/938 [00:00<00:00, 120520.07it/s]\n",
      "100%|██████████| 705/705 [00:00<00:00, 128130.01it/s]\n",
      "100%|██████████| 577/577 [00:00<00:00, 113226.98it/s]\n",
      "100%|██████████| 455/455 [00:00<00:00, 123673.66it/s]\n",
      "100%|██████████| 687/687 [00:00<00:00, 126564.19it/s]\n",
      "100%|██████████| 536/536 [00:00<00:00, 117445.77it/s]\n"
     ]
    },
    {
     "data": {
      "text/html": [
       "<div>\n",
       "<style scoped>\n",
       "    .dataframe tbody tr th:only-of-type {\n",
       "        vertical-align: middle;\n",
       "    }\n",
       "\n",
       "    .dataframe tbody tr th {\n",
       "        vertical-align: top;\n",
       "    }\n",
       "\n",
       "    .dataframe thead th {\n",
       "        text-align: right;\n",
       "    }\n",
       "</style>\n",
       "<table border=\"1\" class=\"dataframe\">\n",
       "  <thead>\n",
       "    <tr style=\"text-align: right;\">\n",
       "      <th></th>\n",
       "      <th>image</th>\n",
       "      <th>class</th>\n",
       "    </tr>\n",
       "  </thead>\n",
       "  <tbody>\n",
       "    <tr>\n",
       "      <th>11268</th>\n",
       "      <td>badminton/00000740.jpg</td>\n",
       "      <td>badminton</td>\n",
       "    </tr>\n",
       "    <tr>\n",
       "      <th>10813</th>\n",
       "      <td>badminton/00000924.jpg</td>\n",
       "      <td>badminton</td>\n",
       "    </tr>\n",
       "    <tr>\n",
       "      <th>10812</th>\n",
       "      <td>badminton/00000930.jpg</td>\n",
       "      <td>badminton</td>\n",
       "    </tr>\n",
       "    <tr>\n",
       "      <th>10811</th>\n",
       "      <td>badminton/00000918.jpg</td>\n",
       "      <td>badminton</td>\n",
       "    </tr>\n",
       "    <tr>\n",
       "      <th>10810</th>\n",
       "      <td>badminton/00000529.jpg</td>\n",
       "      <td>badminton</td>\n",
       "    </tr>\n",
       "    <tr>\n",
       "      <th>...</th>\n",
       "      <td>...</td>\n",
       "      <td>...</td>\n",
       "    </tr>\n",
       "    <tr>\n",
       "      <th>4424</th>\n",
       "      <td>wwe/00000707.jpg</td>\n",
       "      <td>wwe</td>\n",
       "    </tr>\n",
       "    <tr>\n",
       "      <th>4425</th>\n",
       "      <td>wwe/00000713.jpg</td>\n",
       "      <td>wwe</td>\n",
       "    </tr>\n",
       "    <tr>\n",
       "      <th>4426</th>\n",
       "      <td>wwe/00000049.jpg</td>\n",
       "      <td>wwe</td>\n",
       "    </tr>\n",
       "    <tr>\n",
       "      <th>4428</th>\n",
       "      <td>wwe/00000263.jpg</td>\n",
       "      <td>wwe</td>\n",
       "    </tr>\n",
       "    <tr>\n",
       "      <th>4818</th>\n",
       "      <td>wwe/00000432.jpg</td>\n",
       "      <td>wwe</td>\n",
       "    </tr>\n",
       "  </tbody>\n",
       "</table>\n",
       "<p>14360 rows × 2 columns</p>\n",
       "</div>"
      ],
      "text/plain": [
       "                        image      class\n",
       "11268  badminton/00000740.jpg  badminton\n",
       "10813  badminton/00000924.jpg  badminton\n",
       "10812  badminton/00000930.jpg  badminton\n",
       "10811  badminton/00000918.jpg  badminton\n",
       "10810  badminton/00000529.jpg  badminton\n",
       "...                       ...        ...\n",
       "4424         wwe/00000707.jpg        wwe\n",
       "4425         wwe/00000713.jpg        wwe\n",
       "4426         wwe/00000049.jpg        wwe\n",
       "4428         wwe/00000263.jpg        wwe\n",
       "4818         wwe/00000432.jpg        wwe\n",
       "\n",
       "[14360 rows x 2 columns]"
      ]
     },
     "execution_count": 8,
     "metadata": {},
     "output_type": "execute_result"
    }
   ],
   "source": [
    "train = get_labels()\n",
    "\n",
    "# converting the dataframe into csv file \n",
    "train.to_csv('train_sports.csv',header=True, index=False)\n",
    "\n",
    "train"
   ]
  },
  {
   "cell_type": "code",
   "execution_count": 9,
   "metadata": {},
   "outputs": [],
   "source": [
    "def train_images(pdir='test/data/sports/data', train=train):\n",
    "    \n",
    "    # creating an empty list\n",
    "    train_image = []\n",
    "\n",
    "    # for loop to read and store frames\n",
    "    for i in tqdm(range(train.shape[0])):\n",
    "        # loading the image and keeping the target size as (500,300,3)\n",
    "        # The images are variable size\n",
    "        impath = pdir+'/'+train['image'][i]\n",
    "        if i % 1000 == 0:\n",
    "            print(impath)\n",
    "        try:\n",
    "            img = image.load_img(impath, target_size=(500,300,3))\n",
    "            # converting it to array\n",
    "            img = image.img_to_array(img)\n",
    "            # normalizing the pixel value\n",
    "            img = img/255\n",
    "            # appending the image to the train_image list\n",
    "            train_image.append(img)\n",
    "        except:\n",
    "            raise Exception(\"Problem with {}\".format(impath))\n",
    "    return train_image"
   ]
  },
  {
   "cell_type": "code",
   "execution_count": 10,
   "metadata": {},
   "outputs": [
    {
     "name": "stderr",
     "output_type": "stream",
     "text": [
      "  0%|          | 17/14360 [00:00<01:40, 142.35it/s]"
     ]
    },
    {
     "name": "stdout",
     "output_type": "stream",
     "text": [
      "test/data/sports/data/gymnastics/00000372.jpg\n"
     ]
    },
    {
     "name": "stderr",
     "output_type": "stream",
     "text": [
      "  7%|▋         | 1032/14360 [00:04<00:56, 237.31it/s]"
     ]
    },
    {
     "name": "stdout",
     "output_type": "stream",
     "text": [
      "test/data/sports/data/wrestling/00000292.jpg\n"
     ]
    },
    {
     "name": "stderr",
     "output_type": "stream",
     "text": [
      " 14%|█▍        | 2031/14360 [00:08<00:51, 238.37it/s]"
     ]
    },
    {
     "name": "stdout",
     "output_type": "stream",
     "text": [
      "test/data/sports/data/football/00000023.jpg\n"
     ]
    },
    {
     "name": "stderr",
     "output_type": "stream",
     "text": [
      " 21%|██        | 3033/14360 [00:13<00:44, 251.84it/s]"
     ]
    },
    {
     "name": "stdout",
     "output_type": "stream",
     "text": [
      "test/data/sports/data/baseball/00000307.jpg\n"
     ]
    },
    {
     "name": "stderr",
     "output_type": "stream",
     "text": [
      " 28%|██▊       | 4033/14360 [00:17<00:46, 220.27it/s]"
     ]
    },
    {
     "name": "stdout",
     "output_type": "stream",
     "text": [
      "test/data/sports/data/ice_hockey/00000678.jpg\n"
     ]
    },
    {
     "name": "stderr",
     "output_type": "stream",
     "text": [
      " 35%|███▌      | 5043/14360 [00:21<00:39, 236.89it/s]"
     ]
    },
    {
     "name": "stdout",
     "output_type": "stream",
     "text": [
      "test/data/sports/data/basketball/00000110.jpg\n"
     ]
    },
    {
     "name": "stderr",
     "output_type": "stream",
     "text": [
      " 42%|████▏     | 6033/14360 [00:25<00:34, 239.64it/s]"
     ]
    },
    {
     "name": "stdout",
     "output_type": "stream",
     "text": [
      "test/data/sports/data/table_tennis/00000585.jpg\n"
     ]
    },
    {
     "name": "stderr",
     "output_type": "stream",
     "text": [
      " 49%|████▉     | 7024/14360 [00:30<00:33, 219.18it/s]"
     ]
    },
    {
     "name": "stdout",
     "output_type": "stream",
     "text": [
      "test/data/sports/data/motogp/00000511.jpg\n"
     ]
    },
    {
     "name": "stderr",
     "output_type": "stream",
     "text": [
      " 56%|█████▌    | 8040/14360 [00:34<00:25, 251.93it/s]"
     ]
    },
    {
     "name": "stdout",
     "output_type": "stream",
     "text": [
      "test/data/sports/data/fencing/00000022.jpg\n"
     ]
    },
    {
     "name": "stderr",
     "output_type": "stream",
     "text": [
      " 63%|██████▎   | 9043/14360 [00:39<00:22, 235.88it/s]"
     ]
    },
    {
     "name": "stdout",
     "output_type": "stream",
     "text": [
      "test/data/sports/data/swimming/00000535.jpg\n"
     ]
    },
    {
     "name": "stderr",
     "output_type": "stream",
     "text": [
      " 70%|██████▉   | 10021/14360 [00:43<00:19, 222.16it/s]"
     ]
    },
    {
     "name": "stdout",
     "output_type": "stream",
     "text": [
      "test/data/sports/data/tennis/00000266.jpg\n"
     ]
    },
    {
     "name": "stderr",
     "output_type": "stream",
     "text": [
      " 77%|███████▋  | 11025/14360 [00:48<00:15, 211.14it/s]"
     ]
    },
    {
     "name": "stdout",
     "output_type": "stream",
     "text": [
      "test/data/sports/data/badminton/00000333.jpg\n"
     ]
    },
    {
     "name": "stderr",
     "output_type": "stream",
     "text": [
      " 84%|████████▍ | 12030/14360 [00:52<00:11, 206.47it/s]"
     ]
    },
    {
     "name": "stdout",
     "output_type": "stream",
     "text": [
      "test/data/sports/data/boxing/00000146.jpg\n"
     ]
    },
    {
     "name": "stderr",
     "output_type": "stream",
     "text": [
      " 91%|█████████ | 13032/14360 [00:57<00:06, 193.37it/s]"
     ]
    },
    {
     "name": "stdout",
     "output_type": "stream",
     "text": [
      "test/data/sports/data/kabaddi/00000445.jpg\n"
     ]
    },
    {
     "name": "stderr",
     "output_type": "stream",
     "text": [
      " 98%|█████████▊| 14036/14360 [01:02<00:01, 187.54it/s]"
     ]
    },
    {
     "name": "stdout",
     "output_type": "stream",
     "text": [
      "test/data/sports/data/shooting/00000071.jpg\n"
     ]
    },
    {
     "name": "stderr",
     "output_type": "stream",
     "text": [
      "100%|██████████| 14360/14360 [01:04<00:00, 223.60it/s]\n"
     ]
    }
   ],
   "source": [
    "train_image = train_images()"
   ]
  },
  {
   "cell_type": "code",
   "execution_count": 11,
   "metadata": {},
   "outputs": [],
   "source": [
    "print(\"Make array and split\")\n",
    "# converting the list to numpy array\n",
    "X = np.array(train_image)\n",
    "\n",
    "# separating the target\n",
    "y = train['class']\n",
    "\n",
    "# creating the training and validation set\n",
    "X_train, X_test, y_train, y_test = train_test_split(X, y, random_state=42, test_size=0.2, stratify = y)\n",
    "y_train = pd.get_dummies(y_train)\n",
    "y_test = pd.get_dummies(y_test)\n",
    "print(\"Complete\")"
   ]
  },
  {
   "cell_type": "code",
   "execution_count": 13,
   "metadata": {},
   "outputs": [],
   "source": [
    "base_model = VGG16(weights='imagenet', include_top=False)"
   ]
  },
  {
   "cell_type": "code",
   "execution_count": null,
   "metadata": {},
   "outputs": [],
   "source": [
    "X_train = base_model.predict(X_train)\n",
    "X_test = base_model.predict(X_test)"
   ]
  },
  {
   "cell_type": "code",
   "execution_count": null,
   "metadata": {},
   "outputs": [],
   "source": []
  }
 ],
 "metadata": {
  "kernelspec": {
   "display_name": "Python 3",
   "language": "python",
   "name": "python3"
  },
  "language_info": {
   "codemirror_mode": {
    "name": "ipython",
    "version": 3
   },
   "file_extension": ".py",
   "mimetype": "text/x-python",
   "name": "python",
   "nbconvert_exporter": "python",
   "pygments_lexer": "ipython3",
   "version": "3.7.6"
  }
 },
 "nbformat": 4,
 "nbformat_minor": 4
}
